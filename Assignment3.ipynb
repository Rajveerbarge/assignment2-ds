{
 "cells": [
  {
   "cell_type": "code",
   "execution_count": 1,
   "id": "1eba1711-f252-49b9-b4d6-f001f80f0613",
   "metadata": {},
   "outputs": [],
   "source": [
    "import pandas as pd\n",
    "import numpy as np\n",
    "from sklearn.model_selection import train_test_split\n",
    "from sklearn.preprocessing import StandardScaler\n",
    "from sklearn.linear_model import LogisticRegression\n",
    "from sklearn.tree import DecisionTreeClassifier\n",
    "from sklearn.ensemble import RandomForestClassifier\n",
    "from sklearn.neighbors import KNeighborsClassifier\n",
    "from sklearn.svm import SVC\n",
    "from sklearn.metrics import accuracy_score, precision_score, recall_score, f1_score\n"
   ]
  },
  {
   "cell_type": "code",
   "execution_count": 2,
   "id": "bb919804-b362-4ce2-9ccb-7b963c7d87d4",
   "metadata": {},
   "outputs": [],
   "source": [
    "\n",
    "df = pd.read_csv(\"train.csv\")\n",
    "\n",
    "\n",
    "df['Age'] = df['Age'].fillna(df['Age'].median())\n",
    "df['Embarked'] = df['Embarked'].fillna(df['Embarked'].mode()[0])\n",
    "df.drop('Cabin', axis=1, inplace=True)\n",
    "\n",
    "\n",
    "df = pd.get_dummies(df, columns=['Sex', 'Embarked'], drop_first=True)\n",
    "\n",
    "\n",
    "df.drop(['Name', 'Ticket', 'PassengerId'], axis=1, inplace=True)\n"
   ]
  },
  {
   "cell_type": "code",
   "execution_count": 3,
   "id": "b1099859-8792-46b7-b0a6-fb8518e372f0",
   "metadata": {},
   "outputs": [],
   "source": [
    "X = df.drop('Survived', axis=1)\n",
    "y = df['Survived']\n",
    "\n",
    "# Train-test split\n",
    "X_train, X_test, y_train, y_test = train_test_split(X, y, test_size=0.2, random_state=42)\n",
    "\n",
    "# Standardize features\n",
    "scaler = StandardScaler()\n",
    "X_train = scaler.fit_transform(X_train)\n",
    "X_test = scaler.transform(X_test)\n"
   ]
  },
  {
   "cell_type": "code",
   "execution_count": 4,
   "id": "2e676ebf-68c8-44c8-ae56-75ece53c91ff",
   "metadata": {},
   "outputs": [],
   "source": [
    "models = {\n",
    "    \"Logistic Regression\": LogisticRegression(),\n",
    "    \"Decision Tree\": DecisionTreeClassifier(),\n",
    "    \"Random Forest\": RandomForestClassifier(),\n",
    "    \"K-Nearest Neighbors\": KNeighborsClassifier(),\n",
    "    \"Support Vector Machine\": SVC()\n",
    "}\n",
    "\n",
    "results = []\n",
    "\n",
    "for name, model in models.items():\n",
    "    model.fit(X_train, y_train)\n",
    "    y_pred = model.predict(X_test)\n",
    "\n",
    "    acc = accuracy_score(y_test, y_pred)\n",
    "    prec = precision_score(y_test, y_pred)\n",
    "    rec = recall_score(y_test, y_pred)\n",
    "    f1 = f1_score(y_test, y_pred)\n",
    "\n",
    "    results.append([name, acc, prec, rec, f1])\n"
   ]
  },
  {
   "cell_type": "code",
   "execution_count": 5,
   "id": "2cb60e15-d682-4b38-91fe-ebdb515a414a",
   "metadata": {},
   "outputs": [
    {
     "name": "stdout",
     "output_type": "stream",
     "text": [
      "                    Model  Accuracy  Precision  Recall  F1-Score\n",
      "0     Logistic Regression    0.8101     0.7857  0.7432    0.7639\n",
      "1           Decision Tree    0.7709     0.7200  0.7297    0.7248\n",
      "2           Random Forest    0.7989     0.7714  0.7297    0.7500\n",
      "3     K-Nearest Neighbors    0.8045     0.7826  0.7297    0.7552\n",
      "4  Support Vector Machine    0.8212     0.8387  0.7027    0.7647\n"
     ]
    }
   ],
   "source": [
    "\n",
    "results_df = pd.DataFrame(results, columns=[\n",
    "    \"Model\", \"Accuracy\", \"Precision\", \"Recall\", \"F1-Score\"\n",
    "])\n",
    "\n",
    "\n",
    "results_df[[\"Accuracy\", \"Precision\", \"Recall\", \"F1-Score\"]] = results_df[\n",
    "    [\"Accuracy\", \"Precision\", \"Recall\", \"F1-Score\"]\n",
    "].round(4)\n",
    "\n",
    "print(results_df)\n"
   ]
  },
  {
   "cell_type": "code",
   "execution_count": 6,
   "id": "fd1f91fa-37d6-42ea-a7c3-1579bef3b397",
   "metadata": {},
   "outputs": [],
   "source": [
    "import pandas as pd\n",
    "import numpy as np\n",
    "from sklearn.datasets import fetch_california_housing\n",
    "from sklearn.model_selection import train_test_split\n",
    "from sklearn.preprocessing import StandardScaler\n",
    "from sklearn.linear_model import LinearRegression\n",
    "from sklearn.tree import DecisionTreeRegressor\n",
    "from sklearn.ensemble import RandomForestRegressor\n",
    "from sklearn.neighbors import KNeighborsRegressor\n",
    "from sklearn.svm import SVR\n",
    "from sklearn.metrics import mean_absolute_error, mean_squared_error, r2_score\n"
   ]
  },
  {
   "cell_type": "code",
   "execution_count": 7,
   "id": "89b45339-71d8-4c49-a2c4-211c6bc43ff5",
   "metadata": {},
   "outputs": [],
   "source": [
    "housing = fetch_california_housing(as_frame=True)\n",
    "X = housing.data\n",
    "y = housing.target\n"
   ]
  },
  {
   "cell_type": "code",
   "execution_count": 8,
   "id": "cffff7b8-69fb-4dfa-82f3-a8d78370fd71",
   "metadata": {},
   "outputs": [],
   "source": [
    "\n",
    "X_train, X_test, y_train, y_test = train_test_split(X, y, test_size=0.2, random_state=42)\n",
    "\n",
    "\n",
    "scaler = StandardScaler()\n",
    "X_train = scaler.fit_transform(X_train)\n",
    "X_test = scaler.transform(X_test)\n"
   ]
  },
  {
   "cell_type": "code",
   "execution_count": 9,
   "id": "49b60a6a-8d29-423a-b043-bc5afed89ec7",
   "metadata": {},
   "outputs": [],
   "source": [
    "models = {\n",
    "    \"Linear Regression\": LinearRegression(),\n",
    "    \"Decision Tree Regressor\": DecisionTreeRegressor(),\n",
    "    \"Random Forest Regressor\": RandomForestRegressor(),\n",
    "    \"KNN Regressor\": KNeighborsRegressor(),\n",
    "    \"Support Vector Regressor\": SVR()\n",
    "}\n",
    "\n",
    "results = []\n",
    "\n",
    "for name, model in models.items():\n",
    "    model.fit(X_train, y_train)\n",
    "    y_pred = model.predict(X_test)\n",
    "\n",
    "    r2 = r2_score(y_test, y_pred)\n",
    "    mae = mean_absolute_error(y_test, y_pred)\n",
    "    mse = mean_squared_error(y_test, y_pred)\n",
    "    rmse = np.sqrt(mse)\n",
    "\n",
    "    results.append([name, r2, mae, mse, rmse])\n"
   ]
  },
  {
   "cell_type": "code",
   "execution_count": 10,
   "id": "5e3aac40-3918-426e-8bc8-aca719848320",
   "metadata": {},
   "outputs": [
    {
     "name": "stdout",
     "output_type": "stream",
     "text": [
      "                      Model  R² Score     MAE     MSE    RMSE\n",
      "0         Linear Regression    0.5758  0.5332  0.5559  0.7456\n",
      "1   Decision Tree Regressor    0.6150  0.4579  0.5045  0.7103\n",
      "2   Random Forest Regressor    0.8063  0.3267  0.2539  0.5039\n",
      "3             KNN Regressor    0.6700  0.4462  0.4324  0.6576\n",
      "4  Support Vector Regressor    0.7276  0.3986  0.3570  0.5975\n"
     ]
    }
   ],
   "source": [
    "results_df = pd.DataFrame(results, columns=[\"Model\", \"R² Score\", \"MAE\", \"MSE\", \"RMSE\"])\n",
    "results_df[[\"R² Score\", \"MAE\", \"MSE\", \"RMSE\"]] = results_df[[\"R² Score\", \"MAE\", \"MSE\", \"RMSE\"]].round(4)\n",
    "print(results_df)\n"
   ]
  },
  {
   "cell_type": "code",
   "execution_count": null,
   "id": "156822e9-b474-4d05-b833-29d6fd4faecb",
   "metadata": {},
   "outputs": [],
   "source": []
  }
 ],
 "metadata": {
  "kernelspec": {
   "display_name": "Python [conda env:base] *",
   "language": "python",
   "name": "conda-base-py"
  },
  "language_info": {
   "codemirror_mode": {
    "name": "ipython",
    "version": 3
   },
   "file_extension": ".py",
   "mimetype": "text/x-python",
   "name": "python",
   "nbconvert_exporter": "python",
   "pygments_lexer": "ipython3",
   "version": "3.12.7"
  }
 },
 "nbformat": 4,
 "nbformat_minor": 5
}
